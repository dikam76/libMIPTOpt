{
 "cells": [
  {
   "cell_type": "code",
   "execution_count": 1,
   "metadata": {},
   "outputs": [],
   "source": [
    "import numpy as np\n",
    "import gd as g\n",
    "import matplotlib.pyplot as plt"
   ]
  },
  {
   "cell_type": "code",
   "execution_count": 177,
   "metadata": {},
   "outputs": [],
   "source": [
    "n2 = 10\n",
    "m = 12\n",
    "\n",
    "A = np.eye(n)*np.arange(1,11)\n",
    "b = np.ones(n)\n",
    "x0 = np.zeros(n)"
   ]
  },
  {
   "cell_type": "code",
   "execution_count": 3,
   "metadata": {},
   "outputs": [],
   "source": [
    "func = lambda x: 0.5 * (A @ x - b).T @ (A @ x - b)\n",
    "grad = lambda x, i : A[i] * ( A[i].T @ x - b[i])"
   ]
  },
  {
   "cell_type": "code",
   "execution_count": 86,
   "metadata": {},
   "outputs": [],
   "source": [
    "def SAGA(x0, grad, func, m):    \n",
    "    xk = x0\n",
    "    y = [grad(xk, i) for i in range(n)]\n",
    "    sum_y = sum(y)\n",
    "    L = max(np.linalg.eigh(A.T @ A)[0])\n",
    "    print(L)\n",
    "    hk = 1 / (3 * L)\n",
    "    res = [func(xk)]\n",
    "    for i in range(1, m):\n",
    "        j = np.random.randint(1, n)\n",
    "        sum_y -= y[j]\n",
    "        sum_y += grad(xk, j)\n",
    "        xk = xk - hk * (grad(xk, j) - y[j] + sum_y / n)\n",
    "        res.append(func(xk))\n",
    "        y[j] = grad(xk, j)\n",
    "        #i=+1\n",
    "        #if abs(res[-1] - res[-2]) < 1e-8:\n",
    "    return res"
   ]
  },
  {
   "cell_type": "code",
   "execution_count": 173,
   "metadata": {},
   "outputs": [],
   "source": [
    "def RMS(x, a, b, i, delta, t, grad, v = 0):\n",
    "    for idx in range(1, t):\n",
    "        g = grad(x)\n",
    "        v = b * v  + (1 - b) * (g * g)\n",
    "        \n",
    "        e = delta / np.sqrt(idx)\n",
    "        a_new = a / np.sqrt(idx)        \n",
    "        \n",
    "        A = np.diag(np.sqrt(v)) + e * np.eye(len(v))\n",
    "        x = x - a_new * np.linalg.inv(A) @ g\n",
    "    return x\n",
    "\n",
    "def GetStep(v, idx, gr, alpha = 0.003, beta = 0.9, delta = 1):\n",
    "    v = beta * v + (1 - beta) * (gr * gr)\n",
    "    eps = delta / np.sqrt(idx)\n",
    "    alpha_new = alpha / np.sqrt(idx)\n",
    "    A = np.diag(np.sqrt(v)) + eps * np.eye(len(v))\n",
    "    hk = alpha_new * np.linalg.inv(A)\n",
    "    return hk\n",
    "    \n",
    "def SAGAnew(x0, grad, func, itern):    \n",
    "    xk = x0\n",
    "    y = [grad(xk, i) for i in range(n)]\n",
    "    sum_y = sum(y)\n",
    "    v = np.zeros((n, n2))\n",
    "    res = [func(xk)]\n",
    "    \n",
    "    for idx in range(1, itern):\n",
    "        j = np.random.randint(1, n)\n",
    "        \n",
    "        sum_y -= y[j]\n",
    "        gr = grad(xk, j)\n",
    "        sum_y += gr\n",
    "        \n",
    "        #get step\n",
    "        hk = GetStep(v[j], idx, gr)\n",
    "        \n",
    "        xk = xk - hk @ (gr - y[j] + sum_y / n)\n",
    "        res.append(func(xk))\n",
    "        y[j] = grad(xk, j)\n",
    "    return res"
   ]
  },
  {
   "cell_type": "code",
   "execution_count": 175,
   "metadata": {},
   "outputs": [
    {
     "name": "stdout",
     "output_type": "stream",
     "text": [
      "100.0\n"
     ]
    }
   ],
   "source": [
    "m = 5000\n",
    "res = SAGA(x0, grad, func, m)\n",
    "res1 = SAGAnew(x0, grad, func, m)\n",
    "#print(res)\n"
   ]
  },
  {
   "cell_type": "code",
   "execution_count": 176,
   "metadata": {},
   "outputs": [
    {
     "data": {
      "image/png": "[encoded data removed]",
      "text/plain": [
       "<Figure size 432x288 with 1 Axes>"
      ]
     },
     "metadata": {
      "needs_background": "light"
     },
     "output_type": "display_data"
    }
   ],
   "source": [
    "plt.plot(np.log(res))\n",
    "plt.plot(np.log(res1))\n",
    "plt.show()\n",
    "# A = np.array([[i + j + 1 for i in range(1, 11)] for j in range(1, 11)])"
   ]
  },
  {
   "cell_type": "code",
   "execution_count": 11,
   "metadata": {
    "scrolled": true
   },
   "outputs": [
    {
     "data": {
      "image/png": "[encoded data removed]",
      "text/plain": [
       "<Figure size 432x288 with 1 Axes>"
      ]
     },
     "metadata": {},
     "output_type": "display_data"
    }
   ],
   "source": [
    "plt.plot(np.log(res))\n",
    "plt.show()\n",
    "#A = np.array([[max(i, j) + 1 for i in range(1, 11)] for j in range(1, 11)])"
   ]
  },
  {
   "cell_type": "code",
   "execution_count": 123,
   "metadata": {},
   "outputs": [
    {
     "data": {
      "text/plain": [
       "4.5399929762484854e-05"
      ]
     },
     "execution_count": 123,
     "metadata": {},
     "output_type": "execute_result"
    }
   ],
   "source": [
    "np.exp(-10)"
   ]
  },
  {
   "cell_type": "code",
   "execution_count": null,
   "metadata": {},
   "outputs": [],
   "source": [
    "plt.plot(np.log(res))\n",
    "plt.show()\n",
    "#A = np.array([[1 / (i + j + 1)  for i in range(10)] for j in range(10)])"
   ]
  },
  {
   "cell_type": "code",
   "execution_count": 20,
   "metadata": {},
   "outputs": [
    {
     "data": {
      "image/png": "[encoded data removed]",
      "text/plain": [
       "<Figure size 432x288 with 1 Axes>"
      ]
     },
     "metadata": {},
     "output_type": "display_data"
    }
   ],
   "source": [
    "plt.plot(np.log(res))\n",
    "plt.show()\n",
    "#A = np.eye(n)*np.arange(1,11)"
   ]
  }
 ],
 "metadata": {
  "kernelspec": {
   "display_name": "Python 3",
   "language": "python",
   "name": "python3"
  },
  "language_info": {
   "codemirror_mode": {
    "name": "ipython",
    "version": 3
   },
   "file_extension": ".py",
   "mimetype": "text/x-python",
   "name": "python",
   "nbconvert_exporter": "python",
   "pygments_lexer": "ipython3",
   "version": "3.7.3"
  }
 },
 "nbformat": 4,
 "nbformat_minor": 2
}
