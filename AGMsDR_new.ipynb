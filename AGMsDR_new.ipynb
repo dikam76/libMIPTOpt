{
 "cells": [
  {
   "cell_type": "code",
   "execution_count": 2,
   "metadata": {},
   "outputs": [],
   "source": [
    "import numpy as np\n",
    "import gd as g\n",
    "import matplotlib.pyplot as plt"
   ]
  },
  {
   "cell_type": "code",
   "execution_count": 3,
   "metadata": {},
   "outputs": [],
   "source": [
    "dat_file = np.load('Introduction-to-Python-for-Data-Sciences-master/data/student.npz')\n",
    "A = dat_file['A_learn']\n",
    "b = dat_file['b_learn']\n",
    "A_test = dat_file['A_test']\n",
    "b_test = dat_file['b_test']\n",
    "x0 = np.zeros(28)"
   ]
  },
  {
   "cell_type": "code",
   "execution_count": 4,
   "metadata": {},
   "outputs": [],
   "source": [
    "L = max(np.linalg.eigh(A.T @ A)[0])"
   ]
  },
  {
   "cell_type": "code",
   "execution_count": 5,
   "metadata": {},
   "outputs": [],
   "source": [
    "func = lambda x: 0.5 * (A @ x - b).T @ (A @ x - b)\n",
    "grad = lambda x: A.T @ ( A @ x - b)\n",
    "grad_i = lambda x, i : A[i] * ( A[i].T @ x - b[i])\n",
    "grad_2 = lambda x: A.T @ A"
   ]
  },
  {
   "cell_type": "code",
   "execution_count": 6,
   "metadata": {},
   "outputs": [],
   "source": [
    "def ternary_search_h(a, b, func, yk, grad_yk):\n",
    "    while b - a > 1e-3:\n",
    "        c = a + (b - a) / 3\n",
    "        d = a + (b - a) / 3 * 2\n",
    "        if func(yk - c * grad_yk) >= func(yk - d * grad_yk):\n",
    "            a = c\n",
    "        else:\n",
    "            b = d \n",
    "    return a"
   ]
  },
  {
   "cell_type": "code",
   "execution_count": 7,
   "metadata": {},
   "outputs": [],
   "source": [
    "def ternary_search_bet(a, b, xk, vk, func):\n",
    "    while b - a > 1e-3:\n",
    "        c = a + (b - a) / 3\n",
    "        d = a + (b - a) / 3 * 2\n",
    "        if func(vk + c * (xk - vk)) >= func(vk + d * (xk - vk)):\n",
    "            a = c\n",
    "        else:\n",
    "            b = d \n",
    "    return a"
   ]
  },
  {
   "cell_type": "code",
   "execution_count": 17,
   "metadata": {},
   "outputs": [],
   "source": [
    "def AGMsDR(x0, iters, func, grad):\n",
    "    xk = x0.copy()\n",
    "    vk = x0.copy()\n",
    "    Ak = 0\n",
    "    res = [func(xk)]\n",
    "    for i in range(iters):\n",
    "        betk = ternary_search_bet(0, 1, xk, vk, func)\n",
    "        yk = vk + betk * (xk - vk)\n",
    "        grad_yk = grad(yk)\n",
    "        hk = ternary_search_h(0, 1e5, func, yk, grad_yk)\n",
    "        xk = yk - hk * grad_yk\n",
    "        \n",
    "        func_yk = func(yk)\n",
    "        func_xk = func(xk)\n",
    "        tmp = (func_yk - func_xk)**2 + 2 * Ak * np.linalg.norm(grad_yk)**2\n",
    "        ak = (func_yk - func_xk + (tmp)**0.5) / np.linalg.norm(grad_yk)**2\n",
    "        Ak += ak\n",
    "        vk -= ak * grad_yk\n",
    "        res.append(func(xk))\n",
    "    return xk, res"
   ]
  },
  {
   "cell_type": "code",
   "execution_count": 20,
   "metadata": {},
   "outputs": [],
   "source": [
    "xk, res = AGMsDR(x0, 100, func, grad)"
   ]
  },
  {
   "cell_type": "code",
   "execution_count": 21,
   "metadata": {},
   "outputs": [
    {
     "data": {
      "image/png": "[encoded data removed]",
      "text/plain": [
       "<Figure size 432x288 with 1 Axes>"
      ]
     },
     "metadata": {},
     "output_type": "display_data"
    }
   ],
   "source": [
    "plt.plot(np.log(np.array(res) - 373.4040155581676))\n",
    "plt.show()"
   ]
  },
  {
   "cell_type": "code",
   "execution_count": null,
   "metadata": {},
   "outputs": [],
   "source": []
  },
  {
   "cell_type": "code",
   "execution_count": null,
   "metadata": {},
   "outputs": [],
   "source": []
  }
 ],
 "metadata": {
  "kernelspec": {
   "display_name": "Python 3",
   "language": "python",
   "name": "python3"
  },
  "language_info": {
   "codemirror_mode": {
    "name": "ipython",
    "version": 3
   },
   "file_extension": ".py",
   "mimetype": "text/x-python",
   "name": "python",
   "nbconvert_exporter": "python",
   "pygments_lexer": "ipython3",
   "version": "3.6.5"
  }
 },
 "nbformat": 4,
 "nbformat_minor": 2
}
