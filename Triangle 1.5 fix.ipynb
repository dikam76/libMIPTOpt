{
 "cells": [
  {
   "cell_type": "code",
   "execution_count": 5,
   "metadata": {},
   "outputs": [],
   "source": [
    "import numpy as np\n",
    "import matplotlib.pyplot as plt\n"
   ]
  },
  {
   "cell_type": "code",
   "execution_count": 6,
   "metadata": {},
   "outputs": [],
   "source": [
    "func = lambda x: 0.5*np.linalg.norm(A @ x - b)**2\n",
    "grad = lambda x: A.T @ (A @ x - b)"
   ]
  },
  {
   "cell_type": "code",
   "execution_count": 14,
   "metadata": {},
   "outputs": [],
   "source": [
    "dat_file = np.load('data/student.npz')\n",
    "A = dat_file['A_learn']\n",
    "b = dat_file['b_learn']\n",
    "#A_test = dat_file['A_test']\n",
    "#b_test = dat_file['b_test']\n",
    "x0 = np.random.rand(28)\n"
   ]
  },
  {
   "cell_type": "code",
   "execution_count": 15,
   "metadata": {},
   "outputs": [],
   "source": [
    "def ternary_search(xk, zk, func):\n",
    "    a = 0.\n",
    "    b = 1. \n",
    "    while b - a > 1e-3:\n",
    "        c = a + (b - a) / 3\n",
    "        d = a + (b - a) / 3 * 2\n",
    "        if func(xk*c+zk*(1-c)) >= func(xk*d+zk*(1-d)):\n",
    "            a = c\n",
    "        else:\n",
    "            b = d \n",
    "    print((b + a)/2)\n",
    "    return (b+a)/2\n"
   ]
  },
  {
   "cell_type": "code",
   "execution_count": 16,
   "metadata": {},
   "outputs": [],
   "source": [
    "def a_next(ak, L):\n",
    "    return 1 / L * 0.5 + (1 / L**2 * 0.25 + ak**2)**0.5\n"
   ]
  },
  {
   "cell_type": "code",
   "execution_count": 17,
   "metadata": {},
   "outputs": [],
   "source": [
    "def y_next(xk, zk):\n",
    "    return ternary_search(xk, zk, func)\n"
   ]
  },
  {
   "cell_type": "code",
   "execution_count": 18,
   "metadata": {},
   "outputs": [],
   "source": [
    "def x_next(xk, grad, ak_next, yk_next):\n",
    "    return xk - ak_next * grad(yk_next)\n"
   ]
  },
  {
   "cell_type": "code",
   "execution_count": 19,
   "metadata": {},
   "outputs": [],
   "source": [
    "def fast_grad_step_v3(ak_next, xk_next, a_bigk, zk):\n",
    "    return (ak_next * xk_next + a_bigk * zk) / (a_bigk + ak_next)"
   ]
  },
  {
   "cell_type": "code",
   "execution_count": 20,
   "metadata": {},
   "outputs": [
    {
     "name": "stdout",
     "output_type": "stream",
     "text": [
      "0.9996616802577005\n",
      "0.9996616802577005\n",
      "0.0003383197422994323\n",
      "0.3965853494134638\n",
      "0.10157765300843444\n",
      "0.1342457445506967\n",
      "0.3170429842702511\n",
      "0.04510803247682649\n",
      "0.16872567625095325\n",
      "0.07274609578018469\n",
      "0.10043582387817385\n",
      "0.08921522991521492\n",
      "0.057120365670696366\n",
      "0.05678204592839693\n",
      "0.061726998646166084\n",
      "0.07038314383006211\n",
      "0.0820323780036321\n",
      "0.08674837019267713\n",
      "0.07141396179488069\n",
      "0.047891240981836655\n",
      "0.031701947493024824\n",
      "0.022793631856677564\n",
      "0.017601877530023978\n",
      "0.014052163358866651\n",
      "0.012192726337713133\n",
      "0.010908168566169975\n",
      "0.010337254001039683\n",
      "0.009956644290952821\n",
      "0.010168094129889968\n",
      "0.010590993807764258\n",
      "0.01162181177258284\n",
      "0.013227508987011784\n",
      "0.015421301065984666\n",
      "0.017601877530023978\n",
      "0.020560192932903967\n",
      "0.022487029590218706\n",
      "0.02296279172782728\n",
      "0.021598940266682694\n",
      "0.019756683544942817\n",
      "0.017419502043940688\n",
      "0.015421301065984666\n",
      "0.014136743294441508\n",
      "0.012784785886737138\n",
      "0.011875551579307414\n",
      "0.011500228115193982\n",
      "0.010590993807764258\n",
      "0.010168094129889968\n",
      "0.009480882153344247\n",
      "0.008592792829808236\n",
      "0.008029807633638086\n",
      "0.00717343578594265\n",
      "0.006412216365768927\n",
      "0.005719718143249776\n",
      "0.0051276585942257695\n",
      "0.0045567440290954775\n",
      "0.004176134319008616\n",
      "0.0037003721814000403\n",
      "0.0037003721814000403\n",
      "0.003319762471313179\n",
      "0.003150602600163463\n",
      "0.003150602600163463\n",
      "0.003150602600163463\n",
      "0.003150602600163463\n",
      "0.003319762471313179\n",
      "0.0037003721814000403\n",
      "0.0040069744478589\n",
      "0.004387584157945761\n",
      "0.0051276585942257695\n",
      "0.006095041607363209\n",
      "0.007554045496029511\n",
      "0.008931112572107668\n",
      "0.010168094129889968\n",
      "0.010337254001039683\n",
      "0.009480882153344247\n",
      "0.007554045496029511\n",
      "0.005841301800638635\n",
      "0.004387584157945761\n",
      "0.0035312123102503243\n",
      "0.002812282857864031\n",
      "0.002579688035033171\n",
      "0.0018184686148594485\n",
      "0.0018184686148594485\n",
      "0.0016070187759223032\n",
      "0.001437858904772587\n",
      "0.0010995391624731548\n",
      "0.001437858904772587\n",
      "0.0011841190980480128\n",
      "0.0008457993557485806\n",
      "0.0010995391624731548\n",
      "0.0010995391624731548\n",
      "0.0010995391624731548\n",
      "0.0010995391624731548\n",
      "0.0010995391624731548\n",
      "0.0010995391624731548\n",
      "0.001437858904772587\n",
      "0.0010995391624731548\n",
      "0.001437858904772587\n",
      "0.0016070187759223032\n",
      "0.0016070187759223032\n"
     ]
    }
   ],
   "source": [
    "xk = x0\n",
    "zk= x0\n",
    "yk = x0\n",
    "L = np.amax(np.linalg.eigh(A.T @ A)[0])\n",
    "ak = 1 / L\n",
    "res = [func(xk)]\n",
    "#while True:\n",
    "for i in range(1,100):\n",
    "    a_bigk = 1000 / i**0.5\n",
    "    ak = a_next(ak, L) \n",
    "    alpha = ternary_search(xk, zk, func)\n",
    "    yk = xk * alpha + zk * (1 - alpha)\n",
    "    xk = x_next(xk, grad, ak, yk)\n",
    "    zk = xk * alpha + zk * (1 - alpha)\n",
    "    res.append(func(zk))\n",
    "    \n",
    "#print(zk)\n",
    "   # if abs(res[-1] - res[-2]) < 1e-9:\n",
    "      #  break\n"
   ]
  },
  {
   "cell_type": "code",
   "execution_count": 21,
   "metadata": {},
   "outputs": [
    {
     "data": {
      "image/png": "[encoded data removed]",
      "text/plain": [
       "<Figure size 432x288 with 1 Axes>"
      ]
     },
     "metadata": {
      "needs_background": "light"
     },
     "output_type": "display_data"
    }
   ],
   "source": [
    "plt.plot(np.log(res))\n",
    "plt.show()\n"
   ]
  },
  {
   "cell_type": "code",
   "execution_count": null,
   "metadata": {},
   "outputs": [],
   "source": []
  }
 ],
 "metadata": {
  "kernelspec": {
   "display_name": "Python 3",
   "language": "python",
   "name": "python3"
  },
  "language_info": {
   "codemirror_mode": {
    "name": "ipython",
    "version": 3
   },
   "file_extension": ".py",
   "mimetype": "text/x-python",
   "name": "python",
   "nbconvert_exporter": "python",
   "pygments_lexer": "ipython3",
   "version": "3.7.3"
  }
 },
 "nbformat": 4,
 "nbformat_minor": 2
}
