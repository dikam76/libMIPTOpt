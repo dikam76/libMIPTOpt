{
 "cells": [
  {
   "cell_type": "code",
   "execution_count": 1,
   "metadata": {},
   "outputs": [],
   "source": [
    "import numpy as np\n",
    "import matplotlib.pyplot as plt\n"
   ]
  },
  {
   "cell_type": "code",
   "execution_count": 2,
   "metadata": {},
   "outputs": [],
   "source": [
    "func = lambda x: 0.5*np.linalg.norm(A @ x - b)**2\n",
    "grad = lambda x: A.T @ (A @ x - b)"
   ]
  },
  {
   "cell_type": "code",
   "execution_count": 3,
   "metadata": {},
   "outputs": [],
   "source": [
    "dat_file = np.load('data/student.npz')\n",
    "A = dat_file['A_learn']\n",
    "b = dat_file['b_learn']\n",
    "#A_test = dat_file['A_test']\n",
    "#b_test = dat_file['b_test']\n",
    "x0 = np.random.rand(28)\n"
   ]
  },
  {
   "cell_type": "code",
   "execution_count": 4,
   "metadata": {},
   "outputs": [],
   "source": [
    "def ternary_search(xk, zk, func):\n",
    "    a = 0.\n",
    "    b = 1. \n",
    "    while b - a > 1e-3:\n",
    "        c = a + (b - a) / 3\n",
    "        d = a + (b - a) / 3 * 2\n",
    "        if func(xk*c+zk*(1-c)) >= func(xk*d+zk*(1-d)):\n",
    "            a = c\n",
    "        else:\n",
    "            b = d \n",
    "    print((b + a)/2)\n",
    "    return (b+a)/2\n"
   ]
  },
  {
   "cell_type": "code",
   "execution_count": 5,
   "metadata": {},
   "outputs": [],
   "source": [
    "def a_next(ak, L):\n",
    "    return 1 / L * 0.5 + (1 / L**2 * 0.25 + ak**2)**0.5\n"
   ]
  },
  {
   "cell_type": "code",
   "execution_count": 6,
   "metadata": {},
   "outputs": [],
   "source": [
    "def y_next(xk, zk):\n",
    "    return ternary_search(xk, zk, func)\n"
   ]
  },
  {
   "cell_type": "code",
   "execution_count": 7,
   "metadata": {},
   "outputs": [],
   "source": [
    "def x_next(xk, grad, ak_next, yk_next):\n",
    "    return xk - ak_next * grad(yk_next)\n"
   ]
  },
  {
   "cell_type": "code",
   "execution_count": 8,
   "metadata": {},
   "outputs": [],
   "source": [
    "def fast_grad_step_v3(ak_next, xk_next, a_bigk, zk):\n",
    "    return (ak_next * xk_next + a_bigk * zk) / (a_bigk + ak_next)"
   ]
  },
  {
   "cell_type": "code",
   "execution_count": 11,
   "metadata": {},
   "outputs": [
    {
     "name": "stdout",
     "output_type": "stream",
     "text": [
      "0.9996616802577005\n",
      "0.9996616802577005\n",
      "0.0003383197422994323\n",
      "0.38976510093662076\n",
      "0.07697079748407419\n",
      "0.08708668993497656\n",
      "0.23404014649312982\n",
      "0.09131122644367938\n",
      "0.1239578013128779\n",
      "0.0919984384202251\n",
      "0.07993638147516764\n",
      "0.07697079748407419\n",
      "0.06001954119674863\n",
      "0.05137025161309937\n",
      "0.05175086132318624\n",
      "0.05735296049352723\n",
      "0.06723914903736544\n",
      "0.0755976950924761\n",
      "0.0723231961023104\n",
      "0.05389179094242483\n",
      "0.03642124358580323\n",
      "0.025537193516887026\n",
      "0.018838859087806276\n",
      "0.014765806565279517\n",
      "0.012531046080012565\n",
      "0.010337254001039683\n",
      "0.00931172228219453\n",
      "0.008592792829808236\n",
      "0.008410417343724948\n",
      "0.008029807633638086\n",
      "0.008410417343724948\n",
      "0.008931112572107668\n",
      "0.009787484419803106\n",
      "0.010908168566169975\n",
      "0.013058349115862069\n",
      "0.01567504087270924\n",
      "0.018838859087806276\n",
      "0.02231786971906899\n",
      "0.02391431600304443\n",
      "0.023343401437914142\n",
      "0.020391033061754257\n",
      "0.016700572591554393\n",
      "0.013481248793736359\n",
      "0.011500228115193982\n",
      "0.009787484419803106\n",
      "0.008410417343724948\n",
      "0.007554045496029511\n",
      "0.00717343578594265\n",
      "0.006412216365768927\n",
      "0.006095041607363209\n",
      "0.005841301800638635\n",
      "0.005719718143249776\n",
      "0.0051276585942257695\n",
      "0.0051276585942257695\n",
      "0.005148803578119484\n",
      "0.0045567440290954775\n",
      "0.0045567440290954775\n",
      "0.004387584157945761\n",
      "0.0040069744478589\n",
      "0.0040069744478589\n",
      "0.0037003721814000403\n",
      "0.0035312123102503243\n",
      "0.0035312123102503243\n",
      "0.003319762471313179\n",
      "0.003319762471313179\n",
      "0.0035312123102503243\n",
      "0.003319762471313179\n",
      "0.0037003721814000403\n",
      "0.0037003721814000403\n",
      "0.004176134319008616\n",
      "0.0045567440290954775\n",
      "0.005148803578119484\n",
      "0.005719718143249776\n",
      "0.006412216365768927\n",
      "0.0073848856248797945\n",
      "0.007860647762488371\n",
      "0.007860647762488371\n",
      "0.00717343578594265\n",
      "0.0061796215429380675\n",
      "0.00489506377139491\n",
      "0.0040069744478589\n",
      "0.003150602600163463\n",
      "0.0025585430511394563\n",
      "0.002241368292733739\n",
      "0.0019876284860091643\n",
      "0.0016070187759223032\n",
      "0.0016070187759223032\n",
      "0.001437858904772587\n",
      "0.0011841190980480128\n",
      "0.0008457993557485806\n",
      "0.0010995391624731548\n",
      "0.0010995391624731548\n",
      "0.0011841190980480128\n",
      "0.0008457993557485806\n",
      "0.0008457993557485806\n",
      "0.0011841190980480128\n",
      "0.0008457993557485806\n",
      "0.0011841190980480128\n",
      "0.0008457993557485806\n"
     ]
    }
   ],
   "source": [
    "xk = x0\n",
    "zk= x0\n",
    "yk = x0\n",
    "L = np.amax(np.linalg.eigh(A.T @ A)[0])\n",
    "ak = 1 / L\n",
    "res = [func(xk)]\n",
    "#while True:\n",
    "for i in range(1,100):\n",
    "    a_bigk = 1000 / i**0.5\n",
    "    ak = a_next(ak, L) \n",
    "    alpha = ternary_search(xk, zk, func)\n",
    "    yk = xk * alpha + zk * (1 - alpha)\n",
    "    xk = x_next(xk, grad, ak, yk)\n",
    "    zk = xk * alpha + zk * (1 - alpha)\n",
    "    res.append(func(zk))\n",
    "    \n",
    "#print(zk)\n",
    "   # if abs(res[-1] - res[-2]) < 1e-9:\n",
    "      #  break\n"
   ]
  },
  {
   "cell_type": "code",
   "execution_count": 12,
   "metadata": {},
   "outputs": [
    {
     "data": {
      "image/png": "[encoded data removed]",
      "text/plain": [
       "<Figure size 432x288 with 1 Axes>"
      ]
     },
     "metadata": {
      "needs_background": "light"
     },
     "output_type": "display_data"
    }
   ],
   "source": [
    "plt.plot(np.log(res))\n",
    "plt.show()\n"
   ]
  },
  {
   "cell_type": "code",
   "execution_count": null,
   "metadata": {},
   "outputs": [],
   "source": []
  }
 ],
 "metadata": {
  "kernelspec": {
   "display_name": "Python 3",
   "language": "python",
   "name": "python3"
  },
  "language_info": {
   "codemirror_mode": {
    "name": "ipython",
    "version": 3
   },
   "file_extension": ".py",
   "mimetype": "text/x-python",
   "name": "python",
   "nbconvert_exporter": "python",
   "pygments_lexer": "ipython3",
   "version": "3.7.3"
  }
 },
 "nbformat": 4,
 "nbformat_minor": 2
}
