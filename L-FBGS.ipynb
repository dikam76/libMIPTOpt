{
 "cells": [
  {
   "cell_type": "code",
   "execution_count": 1,
   "metadata": {},
   "outputs": [],
   "source": [
    "import numpy as np\n",
    "import gd as g\n",
    "import matplotlib.pyplot as plt"
   ]
  },
  {
   "cell_type": "code",
   "execution_count": 2,
   "metadata": {},
   "outputs": [],
   "source": [
    "dat_file = np.load('Introduction-to-Python-for-Data-Sciences-master/data/student.npz')\n",
    "A = dat_file['A_learn']\n",
    "b = dat_file['b_learn']\n",
    "A_test = dat_file['A_test']\n",
    "b_test = dat_file['b_test']\n",
    "x0 = np.zeros(28)"
   ]
  },
  {
   "cell_type": "code",
   "execution_count": 4,
   "metadata": {},
   "outputs": [],
   "source": [
    "func = lambda x: 0.5 * (A @ x - b).T @ (A @ x - b)\n",
    "grad = lambda x: A.T @ ( A @ x - b)\n",
    "grad_i = lambda x, i : A[i] * ( A[i].T @ x - b[i])\n",
    "grad_2 = lambda x: A.T @ A\n",
    "grad_2_i = lambda x, i: A[i].T @ A[i]"
   ]
  },
  {
   "cell_type": "code",
   "execution_count": 9,
   "metadata": {},
   "outputs": [],
   "source": [
    "L = max(np.linalg.eigh(A.T @ A)[0])"
   ]
  },
  {
   "cell_type": "code",
   "execution_count": 172,
   "metadata": {},
   "outputs": [],
   "source": [
    "def L_FBGS(x0, func, grad, grad_i, grad_2_i, steps, num_func, b, bh, l, nu):\n",
    "    xk = x0.copy()\n",
    "    res = [func(xk)]\n",
    "    r = 0\n",
    "    n = num_func + 1\n",
    "    hr = np.eye(len(xk))\n",
    "    grad_first = grad(x0)\n",
    "    sum_xk = xk\n",
    "    prev_ur = np.zeros(len(xk))\n",
    "    omeg = x0.copy()\n",
    "    for k in range(len(xk)):\n",
    "        gr = grad(xk)\n",
    "        xk = omeg\n",
    "        for t in range(steps):\n",
    "            s_b = np.random.randint(0, num_func, b)\n",
    "            grads = [grad_i(xk, i) - grad_i(omeg, i) + gr for i in s_b]\n",
    "            vt = sum(grads) / b\n",
    "            xk -= nu * hr @ vt\n",
    "            \n",
    "            if k % l == 0 & k > 0:\n",
    "                r += 1\n",
    "                ur = sum_xk / l\n",
    "                tet_r = np.random.randint(0, num_func, bh)\n",
    "                grad_2tmp = [grad_2_i(xk, i) for i in tet_r]\n",
    "                grad_2t = sum(grad_2tmp) / bh\n",
    "                sr = ur - prev_ur\n",
    "                yr = grad_2t * sr\n",
    "                \n",
    "                poj = 1 / (sr.T @ yr)\n",
    "                I = np.eye(len(xk))\n",
    "                tmp_matr = (I - poj * np.outer(sr, yr))\n",
    "                hr = tmp_matr.T @ hr @ tmp_matr + poj * np.outer(sr, sr) \n",
    "                \n",
    "                prev_ur = ur\n",
    "                sum_xk = 0\n",
    "            sum_xk += xk \n",
    "            res.append(func(xk))  \n",
    "        omeg[k] = xk[np.random.randint(0, len(xk), 1)]    \n",
    "    return xk, res"
   ]
  },
  {
   "cell_type": "code",
   "execution_count": 181,
   "metadata": {},
   "outputs": [],
   "source": [
    "xk, res = L_FBGS(x0, func, grad, grad_i, grad_2_i, 100, len(b), 50, 600, 20, 0.00001)"
   ]
  },
  {
   "cell_type": "code",
   "execution_count": 182,
   "metadata": {},
   "outputs": [
    {
     "data": {
      "image/png": "[encoded data removed]",
      "text/plain": [
       "<Figure size 432x288 with 1 Axes>"
      ]
     },
     "metadata": {},
     "output_type": "display_data"
    }
   ],
   "source": [
    "plt.plot(np.log(np.array(res) - 373.4040155581676))\n",
    "plt.show()"
   ]
  }
 ],
 "metadata": {
  "kernelspec": {
   "display_name": "Python 3",
   "language": "python",
   "name": "python3"
  },
  "language_info": {
   "codemirror_mode": {
    "name": "ipython",
    "version": 3
   },
   "file_extension": ".py",
   "mimetype": "text/x-python",
   "name": "python",
   "nbconvert_exporter": "python",
   "pygments_lexer": "ipython3",
   "version": "3.6.5"
  }
 },
 "nbformat": 4,
 "nbformat_minor": 2
}
