{
 "cells": [
  {
   "cell_type": "code",
   "execution_count": 1,
   "metadata": {},
   "outputs": [],
   "source": [
    "import numpy as np\n",
    "import math as m\n",
    "import matplotlib.pyplot as plt"
   ]
  },
  {
   "cell_type": "code",
   "execution_count": 45,
   "metadata": {},
   "outputs": [],
   "source": [
    "dat_file = np.load('data/student.npz')\n",
    "A_learn = dat_file['A_learn']\n",
    "b_learn = dat_file['b_learn']\n",
    "A_test = dat_file['A_test']\n",
    "b_test = dat_file['b_test']\n",
    "\n",
    "\n",
    "m = 395 # number of read examples (total:395)\n",
    "n = 27 # features\n",
    "m_learn = 300\n",
    "x = np.zeros(28)\n",
    "dodes = []\n",
    "dodes_x = []\n",
    "test_r = []\n",
    "i = np.random.randint(28)\n",
    "\n",
    "# Функции\n",
    "fx_final = lambda x:(np.linalg.norm((A_learn@x)-b_learn))**2\n",
    "fx = lambda x,i:(0.5*(A_learn[i].T@x)-b_learn[i])**2\n",
    "func_test = lambda x,i:(0.5*(A_test[i].T@x)-b_test[i])**2\n",
    "getG = lambda x,i: 2 * A_learn[i] * (A_learn[i].T @ x - b_learn[i])"
   ]
  },
  {
   "cell_type": "code",
   "execution_count": 54,
   "metadata": {},
   "outputs": [
    {
     "data": {
      "text/plain": [
       "(28,)"
      ]
     },
     "execution_count": 54,
     "metadata": {},
     "output_type": "execute_result"
    }
   ],
   "source": [
    "np.shape(A_learn[i])"
   ]
  },
  {
   "cell_type": "code",
   "execution_count": 59,
   "metadata": {},
   "outputs": [
    {
     "name": "stderr",
     "output_type": "stream",
     "text": [
      "/home/sirius/anaconda3/lib/python3.7/site-packages/ipykernel_launcher.py:10: RuntimeWarning: divide by zero encountered in double_scalars\n",
      "  # Remove the CWD from sys.path while we load stuff.\n"
     ]
    },
    {
     "name": "stdout",
     "output_type": "stream",
     "text": [
      "1728.7911749253965\n",
      "3255.3004450333797\n",
      "39338.0\n"
     ]
    },
    {
     "data": {
      "image/png": "[encoded data removed]",
      "text/plain": [
       "<Figure size 432x288 with 1 Axes>"
      ]
     },
     "metadata": {
      "needs_background": "light"
     },
     "output_type": "display_data"
    }
   ],
   "source": [
    "def sgd(A_learn, n, b_learn, x0, dodes):\n",
    "    x=x0\n",
    "    L = max(np.linalg.eigh(A_learn.T @ A_learn)[0])\n",
    "    sum_x = sum([np.linalg.norm(A_learn[i] - sum(A_learn[i])/n)**2 for i in range(n)])\n",
    "    x_avg=x0\n",
    "    t=10000\n",
    "    for j in range (t):\n",
    "        i = np.random.randint(300)\n",
    "        h = min((1/n*sum_x)**0.5/j , 1/L)\n",
    "        #h = 1/L\n",
    "        gfx = getG(x,i)\n",
    "        x = x-h*gfx\n",
    "        x_avg= (x_avg * j + x)/(j+1) \n",
    "        fx_in = fx(x,i)\n",
    "        #test_r.append(func_test(x,i))\n",
    "        dodes.append(fx_final(x))\n",
    "        dodes_x.append(fx_final(x_avg))\n",
    "    return(x)\n",
    "\n",
    "def show(data, namefile, legends=[],  colors=[], title=\"\", xlabel=\"\", ylabel=\"\"):\n",
    "    plt.figure()\n",
    "    plt.title(title)\n",
    "    plt.xlabel(xlabel)\n",
    "    plt.ylabel(ylabel)\n",
    "    colors = iter(colors if colors else [\"b\", \"g\", \"r\", \"go:\"])\n",
    "    plt.legend(tuple([plt.plot(el, next(colors)) for el in data]), tuple(legends), loc = 'best')\n",
    "    plt.grid()\n",
    "    plt.savefig(f'{namefile}.png', format = 'png')\n",
    "\n",
    "dodes_x = []\n",
    "dodes = []\n",
    "test_r = []\n",
    "z = sgd(A_learn, n, b_learn, x, dodes)\n",
    "show([dodes, dodes_x], namefile=\"graph\")\n",
    "\n",
    "print (sum(dodes)/len(dodes))\n",
    "print (sum(dodes_x)/len(dodes_x))\n",
    "print (fx_final(x))"
   ]
  },
  {
   "cell_type": "code",
   "execution_count": null,
   "metadata": {},
   "outputs": [],
   "source": []
  }
 ],
 "metadata": {
  "kernelspec": {
   "display_name": "Python 3",
   "language": "python",
   "name": "python3"
  },
  "language_info": {
   "codemirror_mode": {
    "name": "ipython",
    "version": 3
   },
   "file_extension": ".py",
   "mimetype": "text/x-python",
   "name": "python",
   "nbconvert_exporter": "python",
   "pygments_lexer": "ipython3",
   "version": "3.7.3"
  }
 },
 "nbformat": 4,
 "nbformat_minor": 2
}
