{
 "cells": [
  {
   "cell_type": "code",
   "execution_count": 480,
   "metadata": {},
   "outputs": [],
   "source": [
    "import numpy as np\n",
    "import matplotlib.pyplot as plt\n",
    "import math as m"
   ]
  },
  {
   "cell_type": "code",
   "execution_count": 481,
   "metadata": {},
   "outputs": [
    {
     "name": "stdout",
     "output_type": "stream",
     "text": [
      "[[ 1  2  3  4  5  6  7  8  9 10]\n",
      " [ 2  3  4  5  6  7  8  9 10 11]\n",
      " [ 3  4  5  6  7  8  9 10 11 12]\n",
      " [ 4  5  6  7  8  9 10 11 12 13]\n",
      " [ 5  6  7  8  9 10 11 12 13 14]\n",
      " [ 6  7  8  9 10 11 12 13 14 15]\n",
      " [ 7  8  9 10 11 12 13 14 15 16]\n",
      " [ 8  9 10 11 12 13 14 15 16 17]\n",
      " [ 9 10 11 12 13 14 15 16 17 18]\n",
      " [10 11 12 13 14 15 16 17 18 19]]\n",
      "hk = 1\n"
     ]
    }
   ],
   "source": [
    "n = 10\n",
    "A = np.array([[(i + j + 1) for i in range(n)] for j in range(n)])\n",
    "#A = np.random.rand(n,n)\n",
    "#A = np.eye(n)\n",
    "print(A)\n",
    "b = np.ones(n)\n",
    "x0 = np.zeros(n)\n",
    "a = 1.0 / np.amax(np.linalg.eigh(A.T @ A) [0]) \n",
    "print('hk =', hk)\n",
    "vt = np.zeros(n)\n",
    "T = 5000\n",
    "hk = 1\n",
    "\n",
    "func = lambda x: 0.5 * np.linalg.norm(A @ x - b)**2\n",
    "grad = lambda x: A.T @ (A @ x - b)"
   ]
  },
  {
   "cell_type": "code",
   "execution_count": 482,
   "metadata": {},
   "outputs": [],
   "source": [
    "def show(data, namefile, legends=[],  colors=[], title=\"\", xlabel=\"\", ylabel=\"\"):\n",
    "    plt.figure()\n",
    "    plt.title(title)\n",
    "    plt.xlabel(xlabel)\n",
    "    plt.ylabel(ylabel)\n",
    "    colors = iter(colors if colors else [\"b\", \"g\", \"r\", \"go:\"])\n",
    "    plt.legend(tuple([plt.plot(el, next(colors)) for el in data]), tuple(legends), loc = 'best')\n",
    "    plt.grid()\n",
    "    plt.savefig(f'{namefile}.png', format = 'png')"
   ]
  },
  {
   "cell_type": "code",
   "execution_count": 483,
   "metadata": {},
   "outputs": [],
   "source": [
    "def adagrad(xk, T, grad, func, n, a=0.01, hk=0.001):\n",
    "    res = [func(xk)]\n",
    "    a0 = a\n",
    "    vt = 0\n",
    "    for i in range (1, T + 1):\n",
    "        vt = vt + grad(xk) * grad(xk)\n",
    "        At = np.eye (n) * vt**0.5 + hk * np.eye(n)\n",
    "        xk = xk - a * np.linalg.inv(At) @ grad(xk)\n",
    "        #a = a0 / (i**0.34)\n",
    "        res.append(func(xk))\n",
    "    return xk, res   "
   ]
  },
  {
   "cell_type": "code",
   "execution_count": 484,
   "metadata": {},
   "outputs": [],
   "source": [
    "xk, res = adagrad(x0, T, grad, func, n)"
   ]
  },
  {
   "cell_type": "code",
   "execution_count": 485,
   "metadata": {},
   "outputs": [
    {
     "name": "stdout",
     "output_type": "stream",
     "text": [
      "1.6094379124341005\n",
      "-0.885541014692133\n",
      "-0.9800332276979226\n"
     ]
    },
    {
     "data": {
      "image/png": "[encoded data removed]",
      "text/plain": [
       "<Figure size 432x288 with 1 Axes>"
      ]
     },
     "metadata": {
      "needs_background": "light"
     },
     "output_type": "display_data"
    }
   ],
   "source": [
    "show([np.log(res)], namefile = \"graph\") \n",
    "print(np.log(res[0]))\n",
    "print(np.log(res[1]))\n",
    "print(np.log(res[2]))"
   ]
  },
  {
   "cell_type": "code",
   "execution_count": null,
   "metadata": {},
   "outputs": [],
   "source": []
  }
 ],
 "metadata": {
  "kernelspec": {
   "display_name": "Python 3",
   "language": "python",
   "name": "python3"
  },
  "language_info": {
   "codemirror_mode": {
    "name": "ipython",
    "version": 3
   },
   "file_extension": ".py",
   "mimetype": "text/x-python",
   "name": "python",
   "nbconvert_exporter": "python",
   "pygments_lexer": "ipython3",
   "version": "3.7.3"
  }
 },
 "nbformat": 4,
 "nbformat_minor": 2
}
