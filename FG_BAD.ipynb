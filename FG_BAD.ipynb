{
 "cells": [
  {
   "cell_type": "code",
   "execution_count": 104,
   "metadata": {},
   "outputs": [],
   "source": [
    "import numpy as np\n",
    "import gd as g\n",
    "import matplotlib.pyplot as plt\n",
    "import math as m"
   ]
  },
  {
   "cell_type": "code",
   "execution_count": 105,
   "metadata": {},
   "outputs": [],
   "source": [
    "dat_file = np.load('Introduction-to-Python-for-Data-Sciences-master/data/student.npz')\n",
    "A = dat_file['A_learn']\n",
    "b = dat_file['b_learn']\n",
    "A_test = dat_file['A_test']\n",
    "b_test = dat_file['b_test']\n",
    "x0 = np.zeros(28)"
   ]
  },
  {
   "cell_type": "code",
   "execution_count": 106,
   "metadata": {},
   "outputs": [],
   "source": [
    "func = lambda x: 0.5 * np.linalg.norm(A @ x - b)**2\n",
    "grad = lambda x: A.T @ ( A @ x - b)\n",
    "grad_2 = lambda x: A.T @ A"
   ]
  },
  {
   "cell_type": "code",
   "execution_count": 107,
   "metadata": {},
   "outputs": [],
   "source": [
    "L = np.amax(np.linalg.eigh(A.T @ A)[0])"
   ]
  },
  {
   "cell_type": "code",
   "execution_count": 113,
   "metadata": {},
   "outputs": [],
   "source": [
    "def Fast_grad_Nest(x0, func, grad, L, steps):\n",
    "    xk = x0.copy()\n",
    "    res = [func(xk)]\n",
    "    alf = 0\n",
    "    yk = xk\n",
    "    for i in range(steps):\n",
    "        alf_prev = alf\n",
    "        alf = (1 + m.sqrt(1 + 4 * alf**2)) / 2\n",
    "        tet = (1 - alf_prev) / alf\n",
    "        yk_prev = yk\n",
    "        yk = xk - 1 / L * grad(xk)\n",
    "        xk = (1 - tet) * yk + tet * yk_prev\n",
    "        res.append(func(xk))\n",
    "    return xk, res"
   ]
  },
  {
   "cell_type": "code",
   "execution_count": 120,
   "metadata": {},
   "outputs": [],
   "source": [
    "xk, res = Fast_grad_Nest(x0, func, grad, L, 2000)"
   ]
  },
  {
   "cell_type": "code",
   "execution_count": 121,
   "metadata": {},
   "outputs": [
    {
     "data": {
      "image/png": "[encoded data removed]",
      "text/plain": [
       "<Figure size 432x288 with 1 Axes>"
      ]
     },
     "metadata": {},
     "output_type": "display_data"
    }
   ],
   "source": [
    "plt.plot(np.log(res))\n",
    "plt.show()"
   ]
  }
 ],
 "metadata": {
  "kernelspec": {
   "display_name": "Python 3",
   "language": "python",
   "name": "python3"
  },
  "language_info": {
   "codemirror_mode": {
    "name": "ipython",
    "version": 3
   },
   "file_extension": ".py",
   "mimetype": "text/x-python",
   "name": "python",
   "nbconvert_exporter": "python",
   "pygments_lexer": "ipython3",
   "version": "3.6.5"
  }
 },
 "nbformat": 4,
 "nbformat_minor": 2
}
