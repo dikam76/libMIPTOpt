{
 "cells": [
  {
   "cell_type": "code",
   "execution_count": 1,
   "metadata": {},
   "outputs": [],
   "source": [
    "import numpy as np\n",
    "import gd as g\n",
    "import matplotlib.pyplot as plt"
   ]
  },
  {
   "cell_type": "code",
   "execution_count": 46,
   "metadata": {},
   "outputs": [],
   "source": [
    "n = 10\n",
    "A = np.eye(n)*np.arange(1,11)\n",
    "b = np.ones(n)\n",
    "x0 = np.zeros(n)"
   ]
  },
  {
   "cell_type": "code",
   "execution_count": 62,
   "metadata": {},
   "outputs": [],
   "source": [
    "func = lambda x: 0.5 * (A @ x - b).T @ (A @ x - b)\n",
    "grad = lambda x: A.T @ ( A @ x - b)"
   ]
  },
  {
   "cell_type": "code",
   "execution_count": 48,
   "metadata": {},
   "outputs": [],
   "source": [
    "def a_next(ak, L):\n",
    "    return 1 / L * 0.5 + (1 / L**2 * 0.25 + ak**2)**0.5"
   ]
  },
  {
   "cell_type": "code",
   "execution_count": 49,
   "metadata": {},
   "outputs": [],
   "source": [
    "def y_next(ak_next, uk, a_bigk, xk):\n",
    "    return (ak_next * uk + a_bigk * xk) / (a_bigk + ak_next)"
   ]
  },
  {
   "cell_type": "code",
   "execution_count": 57,
   "metadata": {},
   "outputs": [],
   "source": [
    "def u_next(uk, grad, ak_next, yk_next):\n",
    "    return uk - ak_next * grad(yk_next)"
   ]
  },
  {
   "cell_type": "code",
   "execution_count": 51,
   "metadata": {},
   "outputs": [],
   "source": [
    "#def func_f(func_f_prev, ak_next, yk_next, x):\n",
    "#    return func_f_prev + ak_next * (func(yk_next) + grad(yk_next).T @ (x - yk_next))"
   ]
  },
  {
   "cell_type": "code",
   "execution_count": 52,
   "metadata": {},
   "outputs": [],
   "source": [
    "def fast_grad_step_v3(ak_next, uk_next, a_bigk, xk):\n",
    "    return (ak_next * uk_next + a_bigk * xk) / (a_bigk + ak_next)"
   ]
  },
  {
   "cell_type": "code",
   "execution_count": 63,
   "metadata": {},
   "outputs": [],
   "source": [
    "xk = x0\n",
    "yk = x0\n",
    "uk = x0\n",
    "L = max(np.linalg.eigh(A.T @ A)[0])\n",
    "ak = 1 / L\n",
    "a_bigk = ax\n",
    "res = [func(xk)]\n",
    "while True:\n",
    "    ak = a_next(ak, L)\n",
    "    yk = y_next(ak, uk, a_bigk, xk)\n",
    "    uk = u_next(uk, grad, ak, yk)\n",
    "    xk = fast_grad_step_v3(ak, uk, a_bigk, xk)\n",
    "    a_bigk += ak\n",
    "    res.append(func(xk))\n",
    "    if abs(res[-1] - res[-2]) < 1e-6:\n",
    "        break"
   ]
  },
  {
   "cell_type": "code",
   "execution_count": 67,
   "metadata": {},
   "outputs": [
    {
     "data": {
      "image/png": "[encoded data removed]",
      "text/plain": [
       "<Figure size 432x288 with 1 Axes>"
      ]
     },
     "metadata": {},
     "output_type": "display_data"
    }
   ],
   "source": [
    "plt.plot(np.log(res))\n",
    "plt.show()"
   ]
  }
 ],
 "metadata": {
  "kernelspec": {
   "display_name": "Python 3",
   "language": "python",
   "name": "python3"
  },
  "language_info": {
   "codemirror_mode": {
    "name": "ipython",
    "version": 3
   },
   "file_extension": ".py",
   "mimetype": "text/x-python",
   "name": "python",
   "nbconvert_exporter": "python",
   "pygments_lexer": "ipython3",
   "version": "3.6.5"
  }
 },
 "nbformat": 4,
 "nbformat_minor": 2
}
