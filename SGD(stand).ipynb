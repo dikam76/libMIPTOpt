{
 "cells": [
  {
   "cell_type": "code",
   "execution_count": 1,
   "metadata": {},
   "outputs": [],
   "source": [
    "import numpy as np\n",
    "import math as m\n",
    "import matplotlib.pyplot as plt"
   ]
  },
  {
   "cell_type": "code",
   "execution_count": 21,
   "metadata": {},
   "outputs": [],
   "source": [
    "dat_file = np.load('data/student.npz')\n",
    "A_learn = dat_file['A_learn']\n",
    "b_learn = dat_file['b_learn']\n",
    "A_test = dat_file['A_test']\n",
    "b_test = dat_file['b_test']\n",
    "\n",
    "\n",
    "m = 395 # number of read examples (total:395)\n",
    "n = 27 # features\n",
    "m_learn = 300\n",
    "x0 = np.zeros(28)\n",
    "dodes = []\n",
    "dodes_x = []\n",
    "test_r = []\n",
    "i = np.random.randint(28)\n",
    "\n",
    "# Функции\n",
    "getG = lambda x,i: 2 * A_learn[i] * (A_learn[i].T @ x - b_learn[i])\n",
    "fx_final = lambda x:(np.linalg.norm((A_learn@x)-b_learn))**2\n",
    "fx = lambda x,i:(0.5*(A_learn[i].T@x) - b_learn[i])**2\n",
    "func_test = lambda x,i:(0.5*(A_test[i].T @ x)-b_test[i])**2\n",
    "t = 10000\n",
    "L = max(np.linalg.eigh(A_learn.T @ A_learn)[0])\n"
   ]
  },
  {
   "cell_type": "code",
   "execution_count": 63,
   "metadata": {},
   "outputs": [
    {
     "data": {
      "text/plain": [
       "(28,)"
      ]
     },
     "execution_count": 63,
     "metadata": {},
     "output_type": "execute_result"
    }
   ],
   "source": [
    "np.shape(A_learn[i])"
   ]
  },
  {
   "cell_type": "code",
   "execution_count": 29,
   "metadata": {},
   "outputs": [
    {
     "name": "stdout",
     "output_type": "stream",
     "text": [
      "[-0.49155664 -1.92663478 -2.51090235 -0.4802768   0.53687619  1.08085264\n",
      " -0.61453517 -1.26257673  0.7213485   0.17062011 -0.66902519 -0.69646162\n",
      "  0.8205279  -0.19291413 -0.29287742 -1.34149508 -0.5527136   1.48107061\n",
      "  0.05187559  0.12980002 -0.14993369 -1.17078879 -0.24888537  0.58311113\n",
      " -0.47259481 -0.21381316  2.61069499  5.8088441 ]\n"
     ]
    },
    {
     "data": {
      "image/png": "[encoded data removed]",
      "text/plain": [
       "<Figure size 432x288 with 1 Axes>"
      ]
     },
     "metadata": {
      "needs_background": "light"
     },
     "output_type": "display_data"
    }
   ],
   "source": [
    "def sgd(fx, getG, L, t, n, x0, fx_final):\n",
    "    dodes = []\n",
    "    x = x0\n",
    "    #sum_x = sum([np.linalg.norm(A_learn[i] - sum(A_learn[i])/n)**2 for i in range(n)])\n",
    "    x_avg = x0\n",
    "    for j in range (t):\n",
    "        i = np.random.randint(n)\n",
    "        #h = min((1 / n * sum_x)**0.5 / j , 1 / L)\n",
    "        h = 1 / L\n",
    "        gfx = getG(x,i)\n",
    "        x = x - h * gfx\n",
    "        x_avg = (x_avg * j + x) / (j + 1) \n",
    "        fx_in = fx(x, i)\n",
    "        dodes.append(fx_final(x))\n",
    "    return x, dodes\n",
    "\n",
    "def show(data, namefile, legends=[],  colors=[], title=\"\", xlabel=\"\", ylabel=\"\"):\n",
    "    plt.figure()\n",
    "    plt.title(title)\n",
    "    plt.xlabel(xlabel)\n",
    "    plt.ylabel(ylabel)\n",
    "    colors = iter(colors if colors else [\"b\", \"g\", \"r\", \"go:\"])\n",
    "    plt.legend(tuple([plt.plot(el, next(colors)) for el in data]), tuple(legends), loc = 'best')\n",
    "    plt.grid()\n",
    "    plt.savefig(f'{namefile}.png', format = 'png')\n",
    "\n",
    "dodes_x = []\n",
    "test_r = []\n",
    "z, dodes = sgd(fx, getG, L, t, n, x0, fx_final)\n",
    "print(z)\n",
    "show([dodes], namefile=\"graph\")\n"
   ]
  },
  {
   "cell_type": "code",
   "execution_count": null,
   "metadata": {},
   "outputs": [],
   "source": []
  }
 ],
 "metadata": {
  "kernelspec": {
   "display_name": "Python 3",
   "language": "python",
   "name": "python3"
  },
  "language_info": {
   "codemirror_mode": {
    "name": "ipython",
    "version": 3
   },
   "file_extension": ".py",
   "mimetype": "text/x-python",
   "name": "python",
   "nbconvert_exporter": "python",
   "pygments_lexer": "ipython3",
   "version": "3.7.3"
  }
 },
 "nbformat": 4,
 "nbformat_minor": 2
}
