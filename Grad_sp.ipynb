{
 "cells": [
  {
   "cell_type": "code",
   "execution_count": null,
   "metadata": {},
   "outputs": [],
   "source": [
    "def Grad_sp(x0, func):\n",
    "    xk = x0\n",
    "    res = [func(x0)]\n",
    "    while True:\n",
    "        xk -= grad_sp()\n",
    "        res.append(func_n(x0))\n",
    "        if abs(res[-1] - res[-2]) < 1e-6:\n",
    "            return x0, res"
   ]
  },
  {
   "cell_type": "code",
   "execution_count": 3,
   "metadata": {},
   "outputs": [],
   "source": [
    "func = lambda x: np.linalg.norm(A_learn @ x - b_learn)**2\n",
    "grad = lambda x: A_learn.T @ (A_learn @ x - b_learn) * 2 \n",
    "func_h = lambda xk, h, func, grad: func(xk - h * grad)"
   ]
  }
 ],
 "metadata": {
  "kernelspec": {
   "display_name": "Python 3",
   "language": "python",
   "name": "python3"
  },
  "language_info": {
   "codemirror_mode": {
    "name": "ipython",
    "version": 3
   },
   "file_extension": ".py",
   "mimetype": "text/x-python",
   "name": "python",
   "nbconvert_exporter": "python",
   "pygments_lexer": "ipython3",
   "version": "3.6.5"
  }
 },
 "nbformat": 4,
 "nbformat_minor": 2
}
