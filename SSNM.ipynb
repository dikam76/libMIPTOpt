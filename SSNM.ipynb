{
 "cells": [
  {
   "cell_type": "code",
   "execution_count": 1,
   "metadata": {},
   "outputs": [],
   "source": [
    "import numpy as np\n",
    "import gd as g\n",
    "import matplotlib.pyplot as plt"
   ]
  },
  {
   "cell_type": "code",
   "execution_count": 88,
   "metadata": {},
   "outputs": [],
   "source": [
    "dat_file = np.load('Introduction-to-Python-for-Data-Sciences-master/data/student.npz')\n",
    "A = dat_file['A_learn']\n",
    "b = dat_file['b_learn']\n",
    "A_test = dat_file['A_test']\n",
    "b_test = dat_file['b_test']\n",
    "x0 = np.ones(28)"
   ]
  },
  {
   "cell_type": "code",
   "execution_count": 80,
   "metadata": {},
   "outputs": [],
   "source": [
    "func = lambda x: 0.5 * (A @ x - b).T @ (A @ x - b)\n",
    "grad = lambda x: A.T @ ( A @ x - b)\n",
    "grad_i = lambda x, i : A[i] * ( A[i].T @ x - b[i])\n",
    "grad_2 = lambda x: A.T @ A"
   ]
  },
  {
   "cell_type": "code",
   "execution_count": 81,
   "metadata": {},
   "outputs": [],
   "source": [
    "L = max(np.linalg.eigh(A.T @ A)[0])"
   ]
  },
  {
   "cell_type": "code",
   "execution_count": 190,
   "metadata": {},
   "outputs": [],
   "source": [
    "def SSNM(x0, func, grad, n, steps, tet, L, k):\n",
    "    xk = x0.copy()\n",
    "    res = [func(xk)]\n",
    "    if n / k <= 0.75:\n",
    "        nu = (3 * tet * L * n)**-0.5 \n",
    "    else:\n",
    "        nu = 1 / (2 * tet * n)\n",
    "    r = (n * nu * tet) / (1 + nu * tet)\n",
    "    fi = [xk.copy() for i in range(n)]\n",
    "    sum_gr_fi = sum(fi)\n",
    "    for k in range(steps):\n",
    "        i = np.random.randint(n)\n",
    "        y = r * xk + (1 - r) * fi[i]\n",
    "        grad_k = grad(y) - grad(fi[i]) + sum_gr_fi / n\n",
    "        xk -= y.T * tet\n",
    "        j = np.random.randint(n)\n",
    "        sum_gr_fi -= fi[j]\n",
    "        fi[j] = r * xk + (1 - r) * fi[j]\n",
    "        sum_gr_fi += fi[j]\n",
    "        res.append(func(xk))\n",
    "    return xk, res"
   ]
  },
  {
   "cell_type": "code",
   "execution_count": 191,
   "metadata": {},
   "outputs": [],
   "source": [
    "#xk, res = SSNM(x0, func, grad, 300, 10000, 0.0004, 0.001, 0.001)\n",
    "xk, res = SSNM(x0, func, grad, 300, 10000, 0.0004, 0.001, 0.001)"
   ]
  },
  {
   "cell_type": "code",
   "execution_count": 192,
   "metadata": {},
   "outputs": [
    {
     "data": {
      "image/png": "[encoded data removed]",
      "text/plain": [
       "<Figure size 432x288 with 1 Axes>"
      ]
     },
     "metadata": {},
     "output_type": "display_data"
    }
   ],
   "source": [
    "plt.plot(np.log(np.array(res)- 373.4040155581676))\n",
    "plt.show()"
   ]
  }
 ],
 "metadata": {
  "kernelspec": {
   "display_name": "Python 3",
   "language": "python",
   "name": "python3"
  },
  "language_info": {
   "codemirror_mode": {
    "name": "ipython",
    "version": 3
   },
   "file_extension": ".py",
   "mimetype": "text/x-python",
   "name": "python",
   "nbconvert_exporter": "python",
   "pygments_lexer": "ipython3",
   "version": "3.6.5"
  }
 },
 "nbformat": 4,
 "nbformat_minor": 2
}
