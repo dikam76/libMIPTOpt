{
 "cells": [
  {
   "cell_type": "code",
   "execution_count": 1,
   "metadata": {},
   "outputs": [],
   "source": [
    "import numpy as np\n",
    "import gd as g\n",
    "import matplotlib.pyplot as plt"
   ]
  },
  {
   "cell_type": "code",
   "execution_count": 17,
   "metadata": {},
   "outputs": [],
   "source": [
    "dat_file = np.load('Introduction-to-Python-for-Data-Sciences-master/data/student.npz')\n",
    "A = dat_file['A_learn']\n",
    "b = dat_file['b_learn']\n",
    "A_test = dat_file['A_test']\n",
    "b_test = dat_file['b_test']\n",
    "x0 = np.zeros(28)"
   ]
  },
  {
   "cell_type": "code",
   "execution_count": 67,
   "metadata": {},
   "outputs": [],
   "source": [
    "L = max(np.linalg.eigh(A.T @ A)[0])"
   ]
  },
  {
   "cell_type": "code",
   "execution_count": 100,
   "metadata": {},
   "outputs": [],
   "source": [
    "func = lambda x: 0.5 * (A @ x - b).T @ (A @ x - b)\n",
    "grad = lambda x: A.T @ ( A @ x - b)\n",
    "grad_i = lambda x, i : A[i] * ( A[i].T @ x - b[i])\n",
    "grad_2 = lambda x: A.T @ A"
   ]
  },
  {
   "cell_type": "code",
   "execution_count": 101,
   "metadata": {},
   "outputs": [],
   "source": [
    "def Adagrad_norm(x0, func, grad_i, step, bj, nu):\n",
    "    xk = x0.copy()\n",
    "    res = [func(xk)]\n",
    "    n = 28\n",
    "    for k in range(step):\n",
    "        ex = np.random.randint(1, 300)\n",
    "        now_gr = grad_i(xk, ex)\n",
    "        bj += np.linalg.norm(now_gr)**2\n",
    "        xk -= nu / bj**0.5 * now_gr\n",
    "        res.append(func(xk))\n",
    "    return xk, res    "
   ]
  },
  {
   "cell_type": "code",
   "execution_count": 112,
   "metadata": {},
   "outputs": [],
   "source": [
    "def SGD(x0, func, grad_i, step, nu):\n",
    "    xk = x0.copy()\n",
    "    res = [func(xk)]\n",
    "    n = 28\n",
    "    for k in range(step):\n",
    "        ex = np.random.randint(1, 300)\n",
    "        now_gr = grad_i(xk, ex)\n",
    "        xk -= nu * now_gr\n",
    "        res.append(func(xk))\n",
    "    return xk, res    "
   ]
  },
  {
   "cell_type": "code",
   "execution_count": 135,
   "metadata": {},
   "outputs": [],
   "source": [
    "def sgd(x0, grad, steps, func, L):\n",
    "    res = [func(x0)]\n",
    "    x = x0\n",
    "    x_avg = x0\n",
    "    for j in range(1, steps):\n",
    "        i = np.random.randint(300)\n",
    "        h = 1 / L\n",
    "        gfx = grad(x, i)\n",
    "        x = x - h * gfx\n",
    "        x_avg = (x_avg * j + x) / (j + 1)\n",
    "        res.append(func(x))\n",
    "    return x, res"
   ]
  },
  {
   "cell_type": "code",
   "execution_count": 204,
   "metadata": {},
   "outputs": [],
   "source": [
    "xk, res1 = SGD(x0, func, grad_i, 100000, 1/L)\n",
    "#xk, res2 = sgd(x0, grad_i, 40000, func, L)"
   ]
  },
  {
   "cell_type": "code",
   "execution_count": 217,
   "metadata": {},
   "outputs": [],
   "source": [
    "xk, res = Adagrad_norm(x0, func, grad_i, 100000, 0, 0.8)"
   ]
  },
  {
   "cell_type": "code",
   "execution_count": 218,
   "metadata": {},
   "outputs": [
    {
     "data": {
      "image/png": "[encoded data removed]",
      "text/plain": [
       "<Figure size 432x288 with 1 Axes>"
      ]
     },
     "metadata": {},
     "output_type": "display_data"
    }
   ],
   "source": [
    "plt.plot(np.log(np.array(res) - 373.4040155581676))\n",
    "plt.plot(np.log(np.array(res1) - 373.4040155581676))\n",
    "#plt.plot(np.log(np.array(res2) - 373.4040155581676))\n",
    "plt.show()"
   ]
  },
  {
   "cell_type": "code",
   "execution_count": 219,
   "metadata": {},
   "outputs": [
    {
     "name": "stdout",
     "output_type": "stream",
     "text": [
      "373.80952041267483\n",
      "374.72135938090224\n",
      "376.65896658906433\n"
     ]
    }
   ],
   "source": [
    "print(min(res))\n",
    "print(min(res1))\n",
    "print(min(res2))"
   ]
  }
 ],
 "metadata": {
  "kernelspec": {
   "display_name": "Python 3",
   "language": "python",
   "name": "python3"
  },
  "language_info": {
   "codemirror_mode": {
    "name": "ipython",
    "version": 3
   },
   "file_extension": ".py",
   "mimetype": "text/x-python",
   "name": "python",
   "nbconvert_exporter": "python",
   "pygments_lexer": "ipython3",
   "version": "3.6.5"
  }
 },
 "nbformat": 4,
 "nbformat_minor": 2
}
