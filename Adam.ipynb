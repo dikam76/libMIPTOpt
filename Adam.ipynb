{
 "cells": [
  {
   "cell_type": "code",
   "execution_count": 1,
   "metadata": {},
   "outputs": [],
   "source": [
    "import numpy as np\n",
    "import gd as g\n",
    "import matplotlib.pyplot as plt"
   ]
  },
  {
   "cell_type": "code",
   "execution_count": 22,
   "metadata": {},
   "outputs": [],
   "source": [
    "n = 10\n",
    "A = np.eye(n) * np.arange(1,11)\n",
    "b = np.ones(n)\n",
    "x0 = np.zeros(n)"
   ]
  },
  {
   "cell_type": "code",
   "execution_count": 23,
   "metadata": {},
   "outputs": [],
   "source": [
    "func = lambda x: 0.5 * (A @ x - b).T @ (A @ x - b)\n",
    "grad = lambda x: A.T @ ( A @ x - b)"
   ]
  },
  {
   "cell_type": "code",
   "execution_count": 24,
   "metadata": {},
   "outputs": [],
   "source": [
    "def Adam(x0, alf, b1, b2, eps, func, grad, t):\n",
    "    xk = x0\n",
    "    m_t = 0\n",
    "    v_t = 0\n",
    "    pow_b1 = b1\n",
    "    pow_b2 = b2 \n",
    "    res = [func(xk)]\n",
    "    for i in range(1, t + 1):\n",
    "        grad_t = grad(xk)\n",
    "        m_t = b1 * m_t + (1 - b1) * grad_t\n",
    "        v_t = b2 * v_t + (1 - b2) * grad_t**2\n",
    "        m_t_tmp = m_t / (1 - pow_b1)\n",
    "        v_t_tmp = v_t / (1 - pow_b2)\n",
    "        xk -= alf * m_t_tmp / (v_t_tmp**0.5 + eps)\n",
    "        res.append(func(xk))\n",
    "    return res"
   ]
  },
  {
   "cell_type": "code",
   "execution_count": 25,
   "metadata": {},
   "outputs": [],
   "source": [
    "res = Adam(x0, 1e-3, 0.9, 0.999, 1e-8, func, grad, 1000)"
   ]
  },
  {
   "cell_type": "code",
   "execution_count": 26,
   "metadata": {},
   "outputs": [
    {
     "data": {
      "image/png": "[encoded data removed]",
      "text/plain": [
       "<Figure size 432x288 with 1 Axes>"
      ]
     },
     "metadata": {},
     "output_type": "display_data"
    }
   ],
   "source": [
    "plt.plot(np.log(res))\n",
    "plt.show()"
   ]
  }
 ],
 "metadata": {
  "kernelspec": {
   "display_name": "Python 3",
   "language": "python",
   "name": "python3"
  },
  "language_info": {
   "codemirror_mode": {
    "name": "ipython",
    "version": 3
   },
   "file_extension": ".py",
   "mimetype": "text/x-python",
   "name": "python",
   "nbconvert_exporter": "python",
   "pygments_lexer": "ipython3",
   "version": "3.6.5"
  }
 },
 "nbformat": 4,
 "nbformat_minor": 2
}
