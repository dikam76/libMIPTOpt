{
 "cells": [
  {
   "cell_type": "code",
   "execution_count": 1,
   "metadata": {},
   "outputs": [],
   "source": [
    "import numpy as np\n",
    "import math as m\n",
    "import matplotlib.pyplot as plt"
   ]
  },
  {
   "cell_type": "code",
   "execution_count": 15,
   "metadata": {},
   "outputs": [],
   "source": [
    "dat_file = np.load('data/student.npz')\n",
    "A_learn = dat_file['A_learn']\n",
    "b_learn = dat_file['b_learn']\n",
    "A_test = dat_file['A_test']\n",
    "b_test = dat_file['b_test']\n",
    "\n",
    "\n",
    "x0 = np.zeros(28)\n",
    "dodes = []\n",
    "dodes_x = []\n",
    "i = np.random.randint(28)\n",
    "\n",
    "# Функции\n",
    "grad = lambda x,i: 2 * A_learn[i] * (A_learn[i].T @ x - b_learn[i])\n",
    "fx_final = lambda x:(np.linalg.norm((A_learn @ x) - b_learn))**2\n",
    "func_test = lambda x,i:(0.5 * (A_test[i].T @ x)-b_test[i])**2\n",
    "t = 10000\n",
    "L = max(np.linalg.eigh(A_learn.T @ A_learn)[0])\n"
   ]
  },
  {
   "cell_type": "code",
   "execution_count": 16,
   "metadata": {},
   "outputs": [
    {
     "name": "stdout",
     "output_type": "stream",
     "text": [
      "[-0.51229269 -1.93427735 -2.49282229 -0.45691407  0.54040022  1.10766206\n",
      " -0.59837061 -1.27701075  0.70983698  0.15397607 -0.64935226 -0.7363822\n",
      "  0.79413814 -0.12368795 -0.35176379 -1.33826128 -0.55909077  1.4927856\n",
      "  0.01583994  0.18508046 -0.1524318  -1.16885936 -0.25258532  0.55082905\n",
      " -0.48128512 -0.21207198  2.54821522  5.79484131]\n"
     ]
    },
    {
     "data": {
      "image/png": "[encoded data removed]",
      "text/plain": [
       "<Figure size 432x288 with 1 Axes>"
      ]
     },
     "metadata": {
      "needs_background": "light"
     },
     "output_type": "display_data"
    }
   ],
   "source": [
    "def sgd (grad, L, t, n, x0, fx_final):\n",
    "    dodes = []\n",
    "    x = x0\n",
    "    x_avg = x0\n",
    "    for j in range (t):\n",
    "        i = np.random.randint(n)\n",
    "        h = 1 / L\n",
    "        grad_fx = grad(x,i)\n",
    "        x = x - h * grad_fx\n",
    "        x_avg = (x_avg * j + x) / (j + 1) \n",
    "        dodes.append(fx_final(x))\n",
    "    return x, dodes\n",
    "\n",
    "def show(data, namefile, legends=[],  colors=[], title=\"\", xlabel=\"\", ylabel=\"\"):\n",
    "    plt.figure()\n",
    "    plt.title(title)\n",
    "    plt.xlabel(xlabel)\n",
    "    plt.ylabel(ylabel)\n",
    "    colors = iter(colors if colors else [\"b\", \"g\", \"r\", \"go:\"])\n",
    "    plt.legend(tuple([plt.plot(el, next(colors)) for el in data]), tuple(legends), loc = 'best')\n",
    "    plt.grid()\n",
    "    plt.savefig(f'{namefile}.png', format = 'png')\n",
    "\n",
    "dodes_x = []\n",
    "test_r = []\n",
    "z, dodes = sgd(getG, L, t, n, x0, fx_final)\n",
    "show([dodes], namefile=\"graph\")\n"
   ]
  },
  {
   "cell_type": "code",
   "execution_count": null,
   "metadata": {},
   "outputs": [],
   "source": []
  }
 ],
 "metadata": {
  "kernelspec": {
   "display_name": "Python 3",
   "language": "python",
   "name": "python3"
  },
  "language_info": {
   "codemirror_mode": {
    "name": "ipython",
    "version": 3
   },
   "file_extension": ".py",
   "mimetype": "text/x-python",
   "name": "python",
   "nbconvert_exporter": "python",
   "pygments_lexer": "ipython3",
   "version": "3.7.3"
  }
 },
 "nbformat": 4,
 "nbformat_minor": 2
}
