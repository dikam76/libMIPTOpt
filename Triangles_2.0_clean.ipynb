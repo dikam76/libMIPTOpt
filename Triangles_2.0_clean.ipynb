{
 "cells": [
  {
   "cell_type": "code",
   "execution_count": 33,
   "metadata": {},
   "outputs": [],
   "source": [
    "import numpy as np\n",
    "import gd as g\n",
    "import matplotlib.pyplot as plt"
   ]
  },
  {
   "cell_type": "code",
   "execution_count": 34,
   "metadata": {},
   "outputs": [],
   "source": [
    "func = lambda x: 0.5 * np.linalg.norm(A @ x - b)**2\n",
    "grad = lambda x: A.T @ (A @ x - b)"
   ]
  },
  {
   "cell_type": "code",
   "execution_count": 35,
   "metadata": {},
   "outputs": [],
   "source": [
    "n = 10\n",
    "A = np.eye(n)*np.arange(1,11)\n",
    "b = np.ones(n)\n",
    "x0 = np.zeros(n)\n",
    "L = np.amax(np.linalg.eigh(A.T @ A)[0])"
   ]
  },
  {
   "cell_type": "code",
   "execution_count": 36,
   "metadata": {},
   "outputs": [],
   "source": [
    "def ternary_search_vec(xk, zk, func):\n",
    "    a = 0.\n",
    "    b = 1. \n",
    "    while b - a > 1e-3:\n",
    "        c = a + (b - a) / 3\n",
    "        d = a + (b - a) / 3 * 2\n",
    "        if func(xk * c + zk * (1 - c)) >= func(xk * d + zk * (1 - d)):\n",
    "            a = c\n",
    "        else:\n",
    "            b = d \n",
    "    return (b + a) / 2"
   ]
  },
  {
   "cell_type": "code",
   "execution_count": 37,
   "metadata": {},
   "outputs": [],
   "source": [
    "def ternary_search(a, b, xk, func, grad):\n",
    "    while b - a > 1e-3:\n",
    "        c = a + (b - a) / 3\n",
    "        d = a + (b - a) / 3 * 2\n",
    "        if func(xk - c * grad(xk)) >= func(xk - d * grad(xk)):\n",
    "            a = c\n",
    "        else:\n",
    "            b = d \n",
    "    return (b + a) / 2"
   ]
  },
  {
   "cell_type": "code",
   "execution_count": 38,
   "metadata": {},
   "outputs": [],
   "source": [
    "def bin_pow_ray(a, b, xk, func, grad):\n",
    "    c = (a + b) / 2\n",
    "    if func(xk - c * grad(xk)) <= func(xk - b * grad(xk)):\n",
    "        return ternary_search(a, b, xk, func, grad)\n",
    "    else:\n",
    "        return bin_pow_ray(b, 2 * b, xk, func, grad)"
   ]
  },
  {
   "cell_type": "code",
   "execution_count": 39,
   "metadata": {},
   "outputs": [],
   "source": [
    "def Triangles_2_0(x0, L, it, func, grad):    \n",
    "    xk = x0\n",
    "    zk = x0\n",
    "    yk = x0\n",
    "    ak = 1 / L\n",
    "    a_bigk = ak\n",
    "    res = [func(xk)]\n",
    "    for i in range(it):\n",
    "        ak = bin_pow_ray(0., 1., xk, func, grad)\n",
    "        alpha = ternary_search_vec(xk, zk, func)\n",
    "        yk = xk * alpha + zk * (1 - alpha)\n",
    "        xk -= ak * grad(yk)\n",
    "        zk = xk * alpha + zk * (1 - alpha)\n",
    "        a_bigk += ak\n",
    "        res.append(func(xk))\n",
    "    return xk, res   "
   ]
  },
  {
   "cell_type": "code",
   "execution_count": 40,
   "metadata": {},
   "outputs": [],
   "source": [
    "x, res = Triangles_2_0(x0, L, 2000, func, grad)"
   ]
  },
  {
   "cell_type": "code",
   "execution_count": 41,
   "metadata": {},
   "outputs": [
    {
     "name": "stderr",
     "output_type": "stream",
     "text": [
      "/home/yana/anaconda3/lib/python3.6/site-packages/ipykernel_launcher.py:1: RuntimeWarning: divide by zero encountered in log\n",
      "  \"\"\"Entry point for launching an IPython kernel.\n"
     ]
    },
    {
     "data": {
      "image/png": "[encoded data removed]",
      "text/plain": [
       "<Figure size 432x288 with 1 Axes>"
      ]
     },
     "metadata": {},
     "output_type": "display_data"
    }
   ],
   "source": [
    "plt.plot(np.log(res))\n",
    "plt.show()"
   ]
  }
 ],
 "metadata": {
  "kernelspec": {
   "display_name": "Python 3",
   "language": "python",
   "name": "python3"
  },
  "language_info": {
   "codemirror_mode": {
    "name": "ipython",
    "version": 3
   },
   "file_extension": ".py",
   "mimetype": "text/x-python",
   "name": "python",
   "nbconvert_exporter": "python",
   "pygments_lexer": "ipython3",
   "version": "3.6.5"
  }
 },
 "nbformat": 4,
 "nbformat_minor": 2
}
