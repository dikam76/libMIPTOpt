{
 "cells": [
  {
   "cell_type": "code",
   "execution_count": 59,
   "metadata": {},
   "outputs": [],
   "source": [
    "import numpy as np\n",
    "import gd as g\n",
    "import matplotlib.pyplot as plt"
   ]
  },
  {
   "cell_type": "code",
   "execution_count": 60,
   "metadata": {},
   "outputs": [],
   "source": [
    "n = 10\n",
    "A = np.eye(n) * np.arange(1,11)\n",
    "b = np.ones(n)\n",
    "x0 = np.zeros(n)"
   ]
  },
  {
   "cell_type": "code",
   "execution_count": 61,
   "metadata": {},
   "outputs": [],
   "source": [
    "func = lambda x: 0.5 * (A @ x - b).T @ (A @ x - b)\n",
    "grad = lambda x: A.T @ ( A @ x - b)\n",
    "grad_2 = lambda x: A.T @ A"
   ]
  },
  {
   "cell_type": "code",
   "execution_count": 127,
   "metadata": {},
   "outputs": [],
   "source": [
    "def bin_search(a, b, pk, xk, grad, func, c1, c2):\n",
    "    while b - a > 1e-6:\n",
    "        c = (a + b) / 2\n",
    "        t = func(xk + c * pk)\n",
    "        if func(xk + c * pk) > func(xk) + c1 * b * grad(xk).T @ pk:\n",
    "            b = c\n",
    "        else:\n",
    "            a = c\n",
    "    return b"
   ]
  },
  {
   "cell_type": "code",
   "execution_count": 126,
   "metadata": {},
   "outputs": [],
   "source": [
    "def bin_search_ray_max(a, b, pk, xk, grad, func, c1, c2):\n",
    "    c = (a + b) / 2\n",
    "    if abs(grad(xk + c * pk).T @ pk) > c2 * abs(grad(xk).T @ pk):\n",
    "        return bin_search(a, c, pk, xk, grad, func, c1, c2)\n",
    "    else:\n",
    "        return bin_search_ray_max(c, 2 * b, pk, xk, grad, func, c1, c2) "
   ]
  },
  {
   "cell_type": "code",
   "execution_count": 156,
   "metadata": {},
   "outputs": [],
   "source": [
    "def FBGS(x0, func, grad, grad_2, eps, alf, c1=1e-3, c2=0.999):\n",
    "    xk = x0.copy()\n",
    "    res = [func(xk)]\n",
    "    hk = np.ones((len(xk), len(xk))) * 0.1\n",
    "    while True:\n",
    "        xk_prev = xk.copy()\n",
    "        pk = -hk @ grad(xk)\n",
    "        #alf = bin_search_ray_max(0, 1, pk, xk, grad, func, c1, c2)\n",
    "        xk += alf * pk \n",
    "        \n",
    "        delt_grad = grad(xk) - grad(xk_prev)\n",
    "        delt_x = xk - xk_prev\n",
    "        \n",
    "        p_not_pk = 1 / (delt_grad.T @ delt_x)\n",
    "        t = np.outer(delt_grad, delt_x)\n",
    "        tm = np.eye(len(xk)) - p_not_pk * t\n",
    "        tmp = np.eye(len(xk)) - p_not_pk * t.T\n",
    "        hk = tmp @ hk @ tm + p_not_pk * np.outer(delt_x, delt_x)\n",
    "        res.append(func(xk))\n",
    "        if abs(res[-1] - res[-2]) < eps:\n",
    "            break\n",
    "    return res"
   ]
  },
  {
   "cell_type": "code",
   "execution_count": 157,
   "metadata": {},
   "outputs": [],
   "source": [
    "res = FBGS(x0, func, grad, grad_2, 1e-6, 0.1)"
   ]
  },
  {
   "cell_type": "code",
   "execution_count": 158,
   "metadata": {},
   "outputs": [
    {
     "data": {
      "image/png": "[encoded data removed]",
      "text/plain": [
       "<Figure size 432x288 with 1 Axes>"
      ]
     },
     "metadata": {},
     "output_type": "display_data"
    }
   ],
   "source": [
    "plt.plot(np.log(res))\n",
    "plt.show()"
   ]
  },
  {
   "cell_type": "code",
   "execution_count": null,
   "metadata": {},
   "outputs": [],
   "source": []
  }
 ],
 "metadata": {
  "kernelspec": {
   "display_name": "Python 3",
   "language": "python",
   "name": "python3"
  },
  "language_info": {
   "codemirror_mode": {
    "name": "ipython",
    "version": 3
   },
   "file_extension": ".py",
   "mimetype": "text/x-python",
   "name": "python",
   "nbconvert_exporter": "python",
   "pygments_lexer": "ipython3",
   "version": "3.6.5"
  }
 },
 "nbformat": 4,
 "nbformat_minor": 2
}
