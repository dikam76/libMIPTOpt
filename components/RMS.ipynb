{
 "cells": [
  {
   "cell_type": "code",
   "execution_count": 1,
   "metadata": {},
   "outputs": [],
   "source": [
    "def RMS(x, a, b, delta, t, gradfunc, v = 0):\n",
    "    for idx in range(1, t):\n",
    "        g = gradfunc(x)\n",
    "        v = b * v  + (1 - b) * (g * g)\n",
    "        \n",
    "        e = delta / np.sqrt(idx)\n",
    "        a_new = a / np.sqrt(idx)        \n",
    "        \n",
    "        A = np.diag(np.sqrt(v)) + e * np.eye(len(v))\n",
    "        x = x - a_new * np.linalg.inv(A) @ g\n",
    "    return x"
   ]
  }
 ],
 "metadata": {
  "kernelspec": {
   "display_name": "Python 3",
   "language": "python",
   "name": "python3"
  },
  "language_info": {
   "codemirror_mode": {
    "name": "ipython",
    "version": 3
   },
   "file_extension": ".py",
   "mimetype": "text/x-python",
   "name": "python",
   "nbconvert_exporter": "python",
   "pygments_lexer": "ipython3",
   "version": "3.7.3"
  }
 },
 "nbformat": 4,
 "nbformat_minor": 2
}
