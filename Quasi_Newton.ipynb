{
 "cells": [
  {
   "cell_type": "code",
   "execution_count": 1,
   "metadata": {},
   "outputs": [],
   "source": [
    "import numpy as np\n",
    "import gd as g\n",
    "import matplotlib.pyplot as plt"
   ]
  },
  {
   "cell_type": "code",
   "execution_count": 2,
   "metadata": {},
   "outputs": [],
   "source": [
    "dat_file = np.load('Introduction-to-Python-for-Data-Sciences-master/data/student.npz')\n",
    "A = dat_file['A_learn']\n",
    "b = dat_file['b_learn']\n",
    "A_test = dat_file['A_test']\n",
    "b_test = dat_file['b_test']\n",
    "x0 = np.zeros(28)\n",
    "n = 28"
   ]
  },
  {
   "cell_type": "code",
   "execution_count": 3,
   "metadata": {},
   "outputs": [],
   "source": [
    "func = lambda x: 0.5 * (A @ x - b).T @ (A @ x - b)\n",
    "grad = lambda x: A.T @ ( A @ x - b)\n",
    "grad_2 = lambda x: A.T @ A"
   ]
  },
  {
   "cell_type": "code",
   "execution_count": 4,
   "metadata": {},
   "outputs": [],
   "source": [
    "#var1 + var3\n",
    "def Quasi_Newton(x0, func, t, grad, grad_2):\n",
    "    xk = x0.copy()\n",
    "    res = [func(xk)]\n",
    "    L = np.max(np.linalg.eigh(A.T @ A)[0])\n",
    "    hk = 1 / L\n",
    "    for i in range(t):\n",
    "        xk_prev = xk.copy()\n",
    "        xk -= hk * np.linalg.inv(grad_2(xk)) @ grad(xk)\n",
    "        delt_grad = grad(xk) - grad(xk_prev)\n",
    "        delt_x = xk - xk_prev\n",
    "        hk += (delt_x - hk * delt_grad) @ (delt_x - hk * delt_grad).T /  ((delt_x - hk * delt_grad) @ delt_grad)\n",
    "        #bet = 1 + (delt_grad * delt_x) / ((hk * delt_grad) * delt_grad)\n",
    "        #hk += ((hk * delt_grad) @ delt_x.T + delt_x @ delt_grad.T * hk) / (hk * delt_grad * delt_grad)\n",
    "        #hk -= bet * ((hk * delt_grad) @ delt_grad.T * hk) / ((hk * delt_grad) * delt_grad)\n",
    "        res.append(func(xk))\n",
    "    return res  "
   ]
  },
  {
   "cell_type": "code",
   "execution_count": 9,
   "metadata": {},
   "outputs": [],
   "source": [
    "res = Quasi_Newton(x0, func, 2000, grad, grad_2)"
   ]
  },
  {
   "cell_type": "code",
   "execution_count": 10,
   "metadata": {},
   "outputs": [
    {
     "data": {
      "image/png": "[encoded data removed]",
      "text/plain": [
       "<Figure size 432x288 with 1 Axes>"
      ]
     },
     "metadata": {},
     "output_type": "display_data"
    }
   ],
   "source": [
    "plt.plot(np.log(res))\n",
    "plt.show()"
   ]
  }
 ],
 "metadata": {
  "kernelspec": {
   "display_name": "Python 3",
   "language": "python",
   "name": "python3"
  },
  "language_info": {
   "codemirror_mode": {
    "name": "ipython",
    "version": 3
   },
   "file_extension": ".py",
   "mimetype": "text/x-python",
   "name": "python",
   "nbconvert_exporter": "python",
   "pygments_lexer": "ipython3",
   "version": "3.6.5"
  }
 },
 "nbformat": 4,
 "nbformat_minor": 2
}
