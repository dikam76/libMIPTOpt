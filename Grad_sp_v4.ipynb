{
 "cells": [
  {
   "cell_type": "code",
   "execution_count": 14,
   "metadata": {},
   "outputs": [],
   "source": [
    "import numpy as np\n",
    "import gd as g\n",
    "import matplotlib.pyplot as plt"
   ]
  },
  {
   "cell_type": "code",
   "execution_count": 15,
   "metadata": {},
   "outputs": [],
   "source": [
    "n = 10\n",
    "A = np.eye(n)*np.arange(1,11)\n",
    "b = np.ones(n)\n",
    "x0 = np.zeros(n)"
   ]
  },
  {
   "cell_type": "code",
   "execution_count": 16,
   "metadata": {},
   "outputs": [],
   "source": [
    "func = lambda x: 0.5 * x.T @ A @ x - b.T @ x\n",
    "grad = lambda x: A @ x - b"
   ]
  },
  {
   "cell_type": "code",
   "execution_count": 17,
   "metadata": {},
   "outputs": [],
   "source": [
    "def func_h(xk, h, func, grad):\n",
    "    return func(xk - h * grad)"
   ]
  },
  {
   "cell_type": "code",
   "execution_count": 18,
   "metadata": {},
   "outputs": [],
   "source": [
    "def bin_pow_ray(a, b, xk, grad):\n",
    "    c = (a + b) / 2\n",
    "    if func_h(xk, c, func, grad) <= func_h(xk, b, func, grad):\n",
    "        return ternary_search(a, b, xk, grad)\n",
    "    else:\n",
    "        return bin_pow_ray(c, 2 * b, xk) "
   ]
  },
  {
   "cell_type": "code",
   "execution_count": 19,
   "metadata": {},
   "outputs": [],
   "source": [
    "def ternary_search(a, b, xk, grad):\n",
    "    while abs(a - b) < 1e-6:\n",
    "        c = a + (b - a) / 3\n",
    "        d = a + (b - a) / 3 * 2\n",
    "        if func_h(xk, c, func, grad) >= func_h(xk, d, func, grad):\n",
    "            a = c\n",
    "        else:\n",
    "            b = d\n",
    "    return a"
   ]
  },
  {
   "cell_type": "code",
   "execution_count": 20,
   "metadata": {},
   "outputs": [],
   "source": [
    "def similar_triangles():  \n",
    "    xk = x0\n",
    "    res = [func(xk)]\n",
    "    while True:\n",
    "        hk = bin_pow_ray(0, 1, xk, grad(xk))\n",
    "        xk = g.gradient_step(xk, grad(xk), hk) \n",
    "        res.append(func(xk))\n",
    "        if abs(res[-1] - res[-2]) < 1e-6:\n",
    "            break\n",
    "    return res        "
   ]
  },
  {
   "cell_type": "code",
   "execution_count": 21,
   "metadata": {},
   "outputs": [
    {
     "data": {
      "image/png": "[encoded data removed]",
      "text/plain": [
       "<Figure size 432x288 with 1 Axes>"
      ]
     },
     "metadata": {},
     "output_type": "display_data"
    }
   ],
   "source": [
    "plt.plot(res)\n",
    "plt.show()"
   ]
  }
 ],
 "metadata": {
  "kernelspec": {
   "display_name": "Python 3",
   "language": "python",
   "name": "python3"
  },
  "language_info": {
   "codemirror_mode": {
    "name": "ipython",
    "version": 3
   },
   "file_extension": ".py",
   "mimetype": "text/x-python",
   "name": "python",
   "nbconvert_exporter": "python",
   "pygments_lexer": "ipython3",
   "version": "3.6.5"
  }
 },
 "nbformat": 4,
 "nbformat_minor": 2
}
